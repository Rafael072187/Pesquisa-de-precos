{
 "cells": [
  {
   "cell_type": "code",
   "execution_count": 110,
   "id": "5318e0d8",
   "metadata": {},
   "outputs": [
    {
     "data": {
      "application/vnd.microsoft.datawrangler.viewer.v0+json": {
       "columns": [
        {
         "name": "index",
         "rawType": "int64",
         "type": "integer"
        },
        {
         "name": "Nome",
         "rawType": "object",
         "type": "string"
        },
        {
         "name": "Termos banidos",
         "rawType": "object",
         "type": "string"
        },
        {
         "name": "Preço mínimo",
         "rawType": "int64",
         "type": "integer"
        },
        {
         "name": "Preço máximo",
         "rawType": "int64",
         "type": "integer"
        }
       ],
       "ref": "4f6d8b3f-04a1-4830-a957-606d0115ee30",
       "rows": [
        [
         "0",
         "Memória D35 Ddr4 16gb 3200mhz",
         "rgb",
         "150",
         "320"
        ],
        [
         "1",
         "Gabinete Gamer Mancer Cv500, Mid T Lateral De Vidro Branco",
         "Cv500l",
         "280",
         "380"
        ]
       ],
       "shape": {
        "columns": 4,
        "rows": 2
       }
      },
      "text/html": [
       "<div>\n",
       "<style scoped>\n",
       "    .dataframe tbody tr th:only-of-type {\n",
       "        vertical-align: middle;\n",
       "    }\n",
       "\n",
       "    .dataframe tbody tr th {\n",
       "        vertical-align: top;\n",
       "    }\n",
       "\n",
       "    .dataframe thead th {\n",
       "        text-align: right;\n",
       "    }\n",
       "</style>\n",
       "<table border=\"1\" class=\"dataframe\">\n",
       "  <thead>\n",
       "    <tr style=\"text-align: right;\">\n",
       "      <th></th>\n",
       "      <th>Nome</th>\n",
       "      <th>Termos banidos</th>\n",
       "      <th>Preço mínimo</th>\n",
       "      <th>Preço máximo</th>\n",
       "    </tr>\n",
       "  </thead>\n",
       "  <tbody>\n",
       "    <tr>\n",
       "      <th>0</th>\n",
       "      <td>Memória D35 Ddr4 16gb 3200mhz</td>\n",
       "      <td>rgb</td>\n",
       "      <td>150</td>\n",
       "      <td>320</td>\n",
       "    </tr>\n",
       "    <tr>\n",
       "      <th>1</th>\n",
       "      <td>Gabinete Gamer Mancer Cv500, Mid T Lateral De ...</td>\n",
       "      <td>Cv500l</td>\n",
       "      <td>280</td>\n",
       "      <td>380</td>\n",
       "    </tr>\n",
       "  </tbody>\n",
       "</table>\n",
       "</div>"
      ],
      "text/plain": [
       "                                                Nome Termos banidos  \\\n",
       "0                      Memória D35 Ddr4 16gb 3200mhz            rgb   \n",
       "1  Gabinete Gamer Mancer Cv500, Mid T Lateral De ...         Cv500l   \n",
       "\n",
       "   Preço mínimo  Preço máximo  \n",
       "0           150           320  \n",
       "1           280           380  "
      ]
     },
     "metadata": {},
     "output_type": "display_data"
    }
   ],
   "source": [
    "# Iniciar o selenium e exporta o arquivo\n",
    "\n",
    "from selenium import webdriver\n",
    "from selenium.webdriver.chrome.service import Service\n",
    "from selenium.webdriver.chrome.options import Options\n",
    "from webdriver_manager.chrome import ChromeDriverManager\n",
    "from selenium.webdriver.common.keys import Keys\n",
    "from selenium.webdriver.common.by import By\n",
    "from selenium.webdriver.support import expected_conditions as EC\n",
    "import pandas as pd\n",
    "import time\n",
    "\n",
    "# Configurando as opções do Brave\n",
    "chrome_options = Options()\n",
    "chrome_options.binary_location = r\"C:\\Program Files\\BraveSoftware\\Brave-Browser\\Application\\brave.exe\"\n",
    "\n",
    "# Configurando o serviço do driver\n",
    "servico = Service(ChromeDriverManager().install())\n",
    "\n",
    "# Iniciando o navegador com as opções configuradas\n",
    "navegador = webdriver.Chrome(service=servico, options=chrome_options)\n",
    "\n",
    "# Carregar a tabela de produtos\n",
    "tabela_produtos = pd.read_excel(\"buscas.xlsx\")\n",
    "display(tabela_produtos)"
   ]
  },
  {
   "cell_type": "code",
   "execution_count": 78,
   "id": "77cfa6b5",
   "metadata": {},
   "outputs": [],
   "source": [
    "# Verificação de termos banidos e se tem todos os termos\n",
    "\n",
    "def verificar_termos_banidos(lista_termos_banidos, nome):\n",
    "    # analisar se ele não tem nenhum termo banido\n",
    "    tem_termos_banidos = False\n",
    "    for palavra in lista_termos_banidos:\n",
    "        if palavra in nome:\n",
    "            tem_termos_banidos = True\n",
    "    return tem_termos_banidos\n",
    "\n",
    "def verificar_tem_todos_termos_produto(lista_termos_nomes_produtos, nome):\n",
    "    # analisar se ele tem todos os termos do nome do produto\n",
    "    tem_todo_termos_produtos = True\n",
    "    for palavra in lista_termos_nomes_produtos:\n",
    "        if palavra not in nome:\n",
    "            tem_todo_termos_produtos = False\n",
    "    return tem_todo_termos_produtos"
   ]
  },
  {
   "cell_type": "code",
   "execution_count": 79,
   "id": "692c6030",
   "metadata": {},
   "outputs": [],
   "source": [
    "# mercado_livre\n",
    "def mercado_livre(navegador, produto, termos_banidos, preco_minimo, preco_maximo):\n",
    "    navegador.get(\"https://www.mercadolivre.com.br/\")\n",
    "\n",
    "    navegador.find_element('class name', 'nav-search-input').click()\n",
    "\n",
    "    produto = produto.lower()\n",
    "    termos_banidos = termos_banidos.lower()\n",
    "    lista_termos_banidos = termos_banidos.split(\" \")\n",
    "    lista_termos_nomes_produtos = produto.split(\" \")\n",
    "    lista_de_ofertas_mercadolivre = []\n",
    "    preco_minimo = float(preco_minimo)\n",
    "    preco_maximo = float(preco_maximo)\n",
    "\n",
    "    navegador.find_element('class name', 'nav-search-input').send_keys(produto, Keys.ENTER)\n",
    "\n",
    "    time.sleep(1.5)  # Espera a página carregar\n",
    "    lista_resultados = navegador.find_elements('class name', 'ui-search-layout__item')\n",
    "    print(f\"Total de resultados encontrados: {len(lista_resultados)}\")\n",
    "\n",
    "    for resultado in lista_resultados:\n",
    "        try:\n",
    "            nome = resultado.find_element('class name', 'poly-component__title-wrapper').text\n",
    "            nome = nome.lower()\n",
    "\n",
    "            tem_termos_banidos = verificar_termos_banidos(lista_termos_banidos, nome)\n",
    "            tem_todo_termos_produtos = verificar_tem_todos_termos_produto(lista_termos_nomes_produtos, nome)\n",
    "\n",
    "            if not tem_termos_banidos and tem_todo_termos_produtos:\n",
    "                preco = resultado.find_element('class name', 'andes-money-amount--cents-superscript').text\n",
    "                preco = preco.replace(\"\\n\", \"\").replace(\"R$\", \"\").replace(\".\", \"\").replace(\",\", \".\").strip()\n",
    "                preco = float(preco)\n",
    "\n",
    "                if preco_minimo <= preco <= preco_maximo:\n",
    "                    link_elemento = resultado.find_element('css selector', 'a.poly-component__title')\n",
    "                    link = link_elemento.get_attribute('href')\n",
    "                    lista_de_ofertas_mercadolivre.append((nome, preco, link))\n",
    "        except Exception as e:\n",
    "            print (f\"Erro ao processar resultado: {e}\")\n",
    "    \n",
    "    return lista_de_ofertas_mercadolivre\n",
    "\n"
   ]
  },
  {
   "cell_type": "code",
   "execution_count": 118,
   "id": "c10cebf4",
   "metadata": {},
   "outputs": [],
   "source": [
    "produto2 = \"Memoria RAM 35d 16GB DDR4 3200MHz\"\n",
    "\n",
    "navegador.get(\"https://www.kabum.com.br/\")\n",
    "\n",
    "time.sleep(2)  # Aguarde um pouco mais para o site carregar\n",
    "\n",
    "campo_pesquisa = navegador.find_element(By.ID, 'inputBusca')\n",
    "\n",
    "# Define o valor do campo via JavaScript\n",
    "navegador.execute_script(\"arguments[0].value = arguments[1];\", campo_pesquisa, produto2)\n",
    "time.sleep(0.2)\n",
    "\n",
    "# Dispara o evento de submit do formulário de busca via JavaScript\n",
    "navegador.execute_script(\"\"\"\n",
    "    arguments[0].form.dispatchEvent(new Event('submit', {bubbles: true}));\n",
    "\"\"\", campo_pesquisa)\n",
    "\n",
    "navegador.find_element(By.ID, 'inputBusca').send_keys(Keys.ENTER)"
   ]
  },
  {
   "cell_type": "code",
   "execution_count": 80,
   "id": "716937ef",
   "metadata": {},
   "outputs": [
    {
     "name": "stdout",
     "output_type": "stream",
     "text": [
      "Total de resultados encontrados: 57\n",
      "Total de resultados encontrados: 28\n"
     ]
    },
    {
     "data": {
      "application/vnd.microsoft.datawrangler.viewer.v0+json": {
       "columns": [
        {
         "name": "index",
         "rawType": "int64",
         "type": "integer"
        },
        {
         "name": "Nome",
         "rawType": "object",
         "type": "string"
        },
        {
         "name": "Preço",
         "rawType": "float64",
         "type": "float"
        },
        {
         "name": "Link",
         "rawType": "object",
         "type": "string"
        },
        {
         "name": "Produto",
         "rawType": "object",
         "type": "string"
        }
       ],
       "ref": "17f0c440-6564-44dd-8834-18f918ea5a40",
       "rows": [
        [
         "0",
         "memória ram adata 3200mhz 16gb gammix d35 ddr4 preta",
         "280.0",
         "https://www.mercadolivre.com.br/memoria-ram-adata-3200mhz-16gb-gammix-d35-ddr4-preta/p/MLB24692251#polycard_client=search-nordic&searchVariation=MLB24692251&wid=MLB4095188221&position=13&search_layout=grid&type=product&tracking_id=77804988-74f8-4ebb-8787-aa2ec63219ba&sid=search",
         "Memória D35 Ddr4 16gb 3200mhz"
        ],
        [
         "1",
         "memória xpg gammix d35 ddr4 16gb 3200mhz branco desktop",
         "309.51",
         "https://produto.mercadolivre.com.br/MLB-3914507221-memoria-xpg-gammix-d35-ddr4-16gb-3200mhz-branco-desktop-_JM#polycard_client=search-nordic&position=36&search_layout=grid&type=item&tracking_id=77804988-74f8-4ebb-8787-aa2ec63219ba&wid=MLB3914507221&sid=search",
         "Memória D35 Ddr4 16gb 3200mhz"
        ],
        [
         "2",
         "memória ram adata 3200mhz 16gb gammix d35 ddr4 preta",
         "317.0",
         "https://produto.mercadolivre.com.br/MLB-3618745629-memoria-ram-adata-3200mhz-16gb-gammix-d35-ddr4-preta-_JM#polycard_client=search-nordic&position=38&search_layout=grid&type=item&tracking_id=77804988-74f8-4ebb-8787-aa2ec63219ba&wid=MLB3618745629&sid=search",
         "Memória D35 Ddr4 16gb 3200mhz"
        ],
        [
         "3",
         "memória xpg gammix d35 ddr4 16gb 3200mhz preto desktop",
         "318.15",
         "https://produto.mercadolivre.com.br/MLB-5287905668-memoria-xpg-gammix-d35-ddr4-16gb-3200mhz-preto-desktop-_JM#polycard_client=search-nordic&position=40&search_layout=grid&type=item&tracking_id=77804988-74f8-4ebb-8787-aa2ec63219ba&wid=MLB5287905668&sid=search",
         "Memória D35 Ddr4 16gb 3200mhz"
        ],
        [
         "4",
         "memória ddr4 xpg gammix d35, 16gb, 3200mhz, white",
         "305.9",
         "https://produto.mercadolivre.com.br/MLB-4002650401-memoria-ddr4-xpg-gammix-d35-16gb-3200mhz-white-_JM#polycard_client=search-nordic&position=45&search_layout=grid&type=item&tracking_id=77804988-74f8-4ebb-8787-aa2ec63219ba&wid=MLB4002650401&sid=search",
         "Memória D35 Ddr4 16gb 3200mhz"
        ],
        [
         "5",
         "memória ram adata 3200mhz 16gb gammix d35 ddr4 preta",
         "311.0",
         "https://produto.mercadolivre.com.br/MLB-4085725431-memoria-ram-adata-3200mhz-16gb-gammix-d35-ddr4-preta-_JM#polycard_client=search-nordic&position=47&search_layout=grid&type=item&tracking_id=77804988-74f8-4ebb-8787-aa2ec63219ba&wid=MLB4085725431&sid=search",
         "Memória D35 Ddr4 16gb 3200mhz"
        ],
        [
         "6",
         "memória ram adata 3200mhz 16gb gammix d35 ddr4 preta",
         "293.0",
         "https://produto.mercadolivre.com.br/MLB-4085626081-memoria-ram-adata-3200mhz-16gb-gammix-d35-ddr4-preta-_JM#polycard_client=search-nordic&position=48&search_layout=grid&type=item&tracking_id=77804988-74f8-4ebb-8787-aa2ec63219ba&wid=MLB4085626081&sid=search",
         "Memória D35 Ddr4 16gb 3200mhz"
        ]
       ],
       "shape": {
        "columns": 4,
        "rows": 7
       }
      },
      "text/html": [
       "<div>\n",
       "<style scoped>\n",
       "    .dataframe tbody tr th:only-of-type {\n",
       "        vertical-align: middle;\n",
       "    }\n",
       "\n",
       "    .dataframe tbody tr th {\n",
       "        vertical-align: top;\n",
       "    }\n",
       "\n",
       "    .dataframe thead th {\n",
       "        text-align: right;\n",
       "    }\n",
       "</style>\n",
       "<table border=\"1\" class=\"dataframe\">\n",
       "  <thead>\n",
       "    <tr style=\"text-align: right;\">\n",
       "      <th></th>\n",
       "      <th>Nome</th>\n",
       "      <th>Preço</th>\n",
       "      <th>Link</th>\n",
       "      <th>Produto</th>\n",
       "    </tr>\n",
       "  </thead>\n",
       "  <tbody>\n",
       "    <tr>\n",
       "      <th>0</th>\n",
       "      <td>memória ram adata 3200mhz 16gb gammix d35 ddr4...</td>\n",
       "      <td>280.00</td>\n",
       "      <td>https://www.mercadolivre.com.br/memoria-ram-ad...</td>\n",
       "      <td>Memória D35 Ddr4 16gb 3200mhz</td>\n",
       "    </tr>\n",
       "    <tr>\n",
       "      <th>1</th>\n",
       "      <td>memória xpg gammix d35 ddr4 16gb 3200mhz branc...</td>\n",
       "      <td>309.51</td>\n",
       "      <td>https://produto.mercadolivre.com.br/MLB-391450...</td>\n",
       "      <td>Memória D35 Ddr4 16gb 3200mhz</td>\n",
       "    </tr>\n",
       "    <tr>\n",
       "      <th>2</th>\n",
       "      <td>memória ram adata 3200mhz 16gb gammix d35 ddr4...</td>\n",
       "      <td>317.00</td>\n",
       "      <td>https://produto.mercadolivre.com.br/MLB-361874...</td>\n",
       "      <td>Memória D35 Ddr4 16gb 3200mhz</td>\n",
       "    </tr>\n",
       "    <tr>\n",
       "      <th>3</th>\n",
       "      <td>memória xpg gammix d35 ddr4 16gb 3200mhz preto...</td>\n",
       "      <td>318.15</td>\n",
       "      <td>https://produto.mercadolivre.com.br/MLB-528790...</td>\n",
       "      <td>Memória D35 Ddr4 16gb 3200mhz</td>\n",
       "    </tr>\n",
       "    <tr>\n",
       "      <th>4</th>\n",
       "      <td>memória ddr4 xpg gammix d35, 16gb, 3200mhz, white</td>\n",
       "      <td>305.90</td>\n",
       "      <td>https://produto.mercadolivre.com.br/MLB-400265...</td>\n",
       "      <td>Memória D35 Ddr4 16gb 3200mhz</td>\n",
       "    </tr>\n",
       "    <tr>\n",
       "      <th>5</th>\n",
       "      <td>memória ram adata 3200mhz 16gb gammix d35 ddr4...</td>\n",
       "      <td>311.00</td>\n",
       "      <td>https://produto.mercadolivre.com.br/MLB-408572...</td>\n",
       "      <td>Memória D35 Ddr4 16gb 3200mhz</td>\n",
       "    </tr>\n",
       "    <tr>\n",
       "      <th>6</th>\n",
       "      <td>memória ram adata 3200mhz 16gb gammix d35 ddr4...</td>\n",
       "      <td>293.00</td>\n",
       "      <td>https://produto.mercadolivre.com.br/MLB-408562...</td>\n",
       "      <td>Memória D35 Ddr4 16gb 3200mhz</td>\n",
       "    </tr>\n",
       "  </tbody>\n",
       "</table>\n",
       "</div>"
      ],
      "text/plain": [
       "                                                Nome   Preço  \\\n",
       "0  memória ram adata 3200mhz 16gb gammix d35 ddr4...  280.00   \n",
       "1  memória xpg gammix d35 ddr4 16gb 3200mhz branc...  309.51   \n",
       "2  memória ram adata 3200mhz 16gb gammix d35 ddr4...  317.00   \n",
       "3  memória xpg gammix d35 ddr4 16gb 3200mhz preto...  318.15   \n",
       "4  memória ddr4 xpg gammix d35, 16gb, 3200mhz, white  305.90   \n",
       "5  memória ram adata 3200mhz 16gb gammix d35 ddr4...  311.00   \n",
       "6  memória ram adata 3200mhz 16gb gammix d35 ddr4...  293.00   \n",
       "\n",
       "                                                Link  \\\n",
       "0  https://www.mercadolivre.com.br/memoria-ram-ad...   \n",
       "1  https://produto.mercadolivre.com.br/MLB-391450...   \n",
       "2  https://produto.mercadolivre.com.br/MLB-361874...   \n",
       "3  https://produto.mercadolivre.com.br/MLB-528790...   \n",
       "4  https://produto.mercadolivre.com.br/MLB-400265...   \n",
       "5  https://produto.mercadolivre.com.br/MLB-408572...   \n",
       "6  https://produto.mercadolivre.com.br/MLB-408562...   \n",
       "\n",
       "                         Produto  \n",
       "0  Memória D35 Ddr4 16gb 3200mhz  \n",
       "1  Memória D35 Ddr4 16gb 3200mhz  \n",
       "2  Memória D35 Ddr4 16gb 3200mhz  \n",
       "3  Memória D35 Ddr4 16gb 3200mhz  \n",
       "4  Memória D35 Ddr4 16gb 3200mhz  \n",
       "5  Memória D35 Ddr4 16gb 3200mhz  \n",
       "6  Memória D35 Ddr4 16gb 3200mhz  "
      ]
     },
     "metadata": {},
     "output_type": "display_data"
    }
   ],
   "source": [
    "tabela_ofertas = pd.DataFrame()\n",
    "\n",
    "for linha in tabela_produtos.index:\n",
    "    produto = tabela_produtos.loc[linha, \"Nome\"]\n",
    "    termos_banidos = tabela_produtos.loc[linha, \"Termos banidos\"]\n",
    "    preco_minimo = tabela_produtos.loc[linha, \"Preço mínimo\"]\n",
    "    preco_maximo = tabela_produtos.loc[linha, \"Preço máximo\"]\n",
    "\n",
    "    ofertas_mercadolivre = mercado_livre(navegador, produto, termos_banidos, preco_minimo, preco_maximo)\n",
    "\n",
    "    if ofertas_mercadolivre:\n",
    "        df_ofertas = pd.DataFrame(ofertas_mercadolivre, columns=['Nome', 'Preço', 'Link'])\n",
    "        df_ofertas['Produto'] = produto\n",
    "        tabela_ofertas = pd.concat([tabela_ofertas, df_ofertas], ignore_index=True)\n",
    "\n",
    "display(tabela_ofertas)"
   ]
  }
 ],
 "metadata": {
  "kernelspec": {
   "display_name": "Python 3",
   "language": "python",
   "name": "python3"
  },
  "language_info": {
   "codemirror_mode": {
    "name": "ipython",
    "version": 3
   },
   "file_extension": ".py",
   "mimetype": "text/x-python",
   "name": "python",
   "nbconvert_exporter": "python",
   "pygments_lexer": "ipython3",
   "version": "3.13.4"
  }
 },
 "nbformat": 4,
 "nbformat_minor": 5
}
